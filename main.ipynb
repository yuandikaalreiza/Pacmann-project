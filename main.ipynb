{
 "cells": [
  {
   "cell_type": "code",
   "execution_count": 1,
   "metadata": {},
   "outputs": [],
   "source": [
    "# import class\n",
    "from Transaction import Transaction"
   ]
  },
  {
   "cell_type": "markdown",
   "metadata": {},
   "source": [
    "\n",
    "**Test 1**\n",
    "\n",
    "Customer ingin menambahkan dua item baru menggunakan method `add_item()`. \n",
    "Item yang ditambahkan adalah sebagai berikut \n",
    "* Nama item: Ayam Goreng, qty: 2, harga: 20000\n",
    "* Nama item: Pasta Gigi, qty: 3, harga 1500"
   ]
  },
  {
   "cell_type": "code",
   "execution_count": 7,
   "metadata": {},
   "outputs": [
    {
     "name": "stdout",
     "output_type": "stream",
     "text": [
      "\n",
      "ADD ITEM'S\n",
      "| Nama Barang   |   Jumlah Barang |   Harga Barang |\n",
      "|---------------|-----------------|----------------|\n",
      "| Ayam Goreng   |               2 |          20000 |\n",
      "\n",
      "ADD ITEM'S\n",
      "| Nama Barang   |   Jumlah Barang |   Harga Barang |\n",
      "|---------------|-----------------|----------------|\n",
      "| Pasta Gigi    |               3 |          15000 |\n",
      "\n",
      "CHECKING ORDER'S\n",
      "| Nama Barang   |   Jumlah Barang |   Harga Barang |   Total Harga |\n",
      "|---------------|-----------------|----------------|---------------|\n",
      "| Ayam Goreng   |               2 |          20000 |         40000 |\n",
      "| Pasta Gigi    |               3 |          15000 |         45000 |\n"
     ]
    }
   ],
   "source": [
    "transaction = Transaction()\n",
    "transaction.add_item('Ayam Goreng', 2, 20000)\n",
    "transaction.add_item('Pasta Gigi', 3, 15000)\n",
    "transaction.check_order()"
   ]
  },
  {
   "cell_type": "markdown",
   "metadata": {},
   "source": [
    "**Test 2**\n",
    "\n",
    "Ternyata Customer salah membeli salah satu item dari belanjaan yang sudah ditambahkan, maka Customer menggunakan method `delete_item()` untuk menghapus item. Item yang ingin dihapuskan adalah **Pasta Gigi**."
   ]
  },
  {
   "cell_type": "code",
   "execution_count": 8,
   "metadata": {},
   "outputs": [
    {
     "name": "stdout",
     "output_type": "stream",
     "text": [
      "\n",
      "DELETING Pasta Gigi\n",
      "\n",
      "CHECKING ORDER'S\n",
      "| Nama Barang   |   Jumlah Barang |   Harga Barang |   Total Harga |\n",
      "|---------------|-----------------|----------------|---------------|\n",
      "| Ayam Goreng   |               2 |          20000 |         40000 |\n"
     ]
    }
   ],
   "source": [
    "transaction.delete_item('Pasta Gigi')\n",
    "transaction.check_order()"
   ]
  },
  {
   "cell_type": "markdown",
   "metadata": {},
   "source": [
    "**Test 3**\n",
    "\n",
    "Ternyata setelah dipikir - pikir Customer salah memasukkan item yang ingin dibelanjakan! Daripada menghapusnya satu - satu, maka Customer cukup menggunakan method `reset_transaction()` untuk menghapus semua item yang sudah ditambahkam"
   ]
  },
  {
   "cell_type": "code",
   "execution_count": 11,
   "metadata": {},
   "outputs": [
    {
     "name": "stdout",
     "output_type": "stream",
     "text": [
      "\n",
      "DELETE ALL ITEM'S\n",
      "\n",
      "CHECKING ORDER'S\n",
      "| Nama Barang   | Jumlah Barang   | Harga Barang   | Total Harga   |\n",
      "|---------------|-----------------|----------------|---------------|\n"
     ]
    }
   ],
   "source": [
    "transaction.reset_transaction()\n",
    "transaction.check_order()"
   ]
  },
  {
   "cell_type": "markdown",
   "metadata": {},
   "source": [
    "**Test 4**\n",
    "\n",
    "Setelah Customer selesai berbelanja, akan menghitung total belanja yang harus dibayarkan menggunakan method `total_price()` . Sebelum mengeluarkan output total belanja akan menampilkan item - item yang dibeli."
   ]
  },
  {
   "cell_type": "code",
   "execution_count": 12,
   "metadata": {},
   "outputs": [
    {
     "name": "stdout",
     "output_type": "stream",
     "text": [
      "\n",
      "ADD ITEM'S\n",
      "| Nama Barang   |   Jumlah Barang |   Harga Barang |\n",
      "|---------------|-----------------|----------------|\n",
      "| Ayam Goreng   |               2 |          20000 |\n",
      "\n",
      "ADD ITEM'S\n",
      "| Nama Barang   |   Jumlah Barang |   Harga Barang |\n",
      "|---------------|-----------------|----------------|\n",
      "| Pasta Gigi    |               3 |          15000 |\n",
      "\n",
      "ADD ITEM'S\n",
      "| Nama Barang   |   Jumlah Barang |   Harga Barang |\n",
      "|---------------|-----------------|----------------|\n",
      "| Mainan Mobil  |               1 |         200000 |\n",
      "\n",
      "ADD ITEM'S\n",
      "| Nama Barang   |   Jumlah Barang |   Harga Barang |\n",
      "|---------------|-----------------|----------------|\n",
      "| Mi Instan     |               5 |           3000 |\n",
      "\n",
      "CHECKING ORDER'S\n",
      "| Nama Barang   |   Jumlah Barang |   Harga Barang |   Total Harga |\n",
      "|---------------|-----------------|----------------|---------------|\n",
      "| Ayam Goreng   |               2 |          20000 |         40000 |\n",
      "| Pasta Gigi    |               3 |          15000 |         45000 |\n",
      "| Mainan Mobil  |               1 |         200000 |        200000 |\n",
      "| Mi Instan     |               5 |           3000 |         15000 |\n",
      "\n",
      "COUNTING TOTAL PRICE'S\n",
      "Total Harga : 300000\n",
      "Selamat, anda mendapatkan diskon sebesar 5%\n",
      "Sehinggal Total harga : 285000.0\n"
     ]
    }
   ],
   "source": [
    "transaction.add_item('Ayam Goreng', 2, 20000)\n",
    "transaction.add_item('Pasta Gigi', 3, 15000)\n",
    "transaction.add_item('Mainan Mobil', 1, 200000)\n",
    "transaction.add_item('Mi Instan', 5, 3000)\n",
    "transaction.check_order()\n",
    "transaction.total_price()"
   ]
  }
 ],
 "metadata": {
  "kernelspec": {
   "display_name": "Python 3.9.6 64-bit",
   "language": "python",
   "name": "python3"
  },
  "language_info": {
   "codemirror_mode": {
    "name": "ipython",
    "version": 3
   },
   "file_extension": ".py",
   "mimetype": "text/x-python",
   "name": "python",
   "nbconvert_exporter": "python",
   "pygments_lexer": "ipython3",
   "version": "3.9.6"
  },
  "orig_nbformat": 4,
  "vscode": {
   "interpreter": {
    "hash": "14958d3aee5f1cad06795f787e54b96185c25fb40dfec723a5be941f3a531b8c"
   }
  }
 },
 "nbformat": 4,
 "nbformat_minor": 2
}
